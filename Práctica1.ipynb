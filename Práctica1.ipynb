{
 "cells": [
  {
   "cell_type": "markdown",
   "id": "a7826ad6",
   "metadata": {},
   "source": [
    "Tablero de ajedrez"
   ]
  },
  {
   "cell_type": "code",
   "execution_count": null,
   "id": "7f354dd5",
   "metadata": {},
   "outputs": [],
   "source": []
  },
  {
   "cell_type": "markdown",
   "id": "492dab9b",
   "metadata": {},
   "source": [
    "Imagen estilo mondrian"
   ]
  },
  {
   "cell_type": "code",
   "execution_count": null,
   "id": "4533d227",
   "metadata": {},
   "outputs": [],
   "source": []
  }
 ],
 "metadata": {
  "kernelspec": {
   "display_name": "VC_P1",
   "language": "python",
   "name": "python3"
  },
  "language_info": {
   "name": "python",
   "version": "3.11.5"
  }
 },
 "nbformat": 4,
 "nbformat_minor": 5
}
