{
 "cells": [
  {
   "cell_type": "markdown",
   "id": "38da8f94",
   "metadata": {},
   "source": [
    "# Titulo\n",
    "\n",
    "Descripción generañ práctica"
   ]
  },
  {
   "cell_type": "markdown",
   "id": "c5ac4578",
   "metadata": {},
   "source": [
    "Paquetes Necesarios:"
   ]
  },
  {
   "cell_type": "markdown",
   "id": "514dd654",
   "metadata": {},
   "source": [
    "Inicializaación de Variables"
   ]
  },
  {
   "cell_type": "code",
   "execution_count": 46,
   "id": "35b6973c",
   "metadata": {},
   "outputs": [],
   "source": [
    "import cv2  \n",
    "import numpy as np\n",
    "import matplotlib.pyplot as plt"
   ]
  },
  {
   "cell_type": "code",
   "execution_count": 47,
   "id": "6f600d6d",
   "metadata": {},
   "outputs": [],
   "source": [
    "#Dimensiones de la imagen a crear\n",
    "width = 800\n",
    "height = 800\n",
    "withe_color=(255,255,255)\n",
    "black_color=(0,0,0)"
   ]
  },
  {
   "cell_type": "markdown",
   "id": "cbe436ba",
   "metadata": {},
   "source": [
    "## Titulo Tarea 1\n",
    "\n",
    "Breve descripción\n",
    "\n",
    "## PASARLO A FUNCIONES LO MÁS POSIBLE\n",
    "comentar más el código\n",
    "Explicar las decicioes y el funcionamiento del código\n",
    "nombre más significativo a las variables, a las salidas del print f y a las salidas descriptivas en pantalla"
   ]
  },
  {
   "cell_type": "code",
   "execution_count": null,
   "id": "c90a8413",
   "metadata": {},
   "outputs": [
    {
     "name": "stdout",
     "output_type": "stream",
     "text": [
      "Las Dimensiones de la imagen son: (800, 800, 3)\n",
      "Las dimensiones del ajedrez son: 8x8\n",
      "Las posiciones de los cuadrados serán: [0, 100, 200, 300, 400, 500, 600, 700, 800]\n",
      "[0, 1, 2, 3, 4, 5, 6, 7]\n"
     ]
    },
    {
     "data": {
      "image/png": "[encoded data removed]",
      "text/plain": [
       "<Figure size 640x480 with 1 Axes>"
      ]
     },
     "metadata": {},
     "output_type": "display_data"
    }
   ],
   "source": [
    "\n",
    "color_img = np.zeros((height,width,3), dtype = np.uint8)\n",
    "#Dimensiones\n",
    "print(f\"Las Dimensiones de la imagen son: {color_img.shape}\")\n",
    "\n",
    "# Tablero 8x8\n",
    "dimension=8\n",
    "square_size=(width//dimension)\n",
    "positions=[i * square_size for i in range(0,dimension+1)]\n",
    "\n",
    "print(f\"Las dimensiones del ajedrez son: {dimension}x{dimension}\")\n",
    "print(f\"Las posiciones de los cuadrados serán: {positions}\")\n",
    "\n",
    "square_color=withe_color\n",
    "for row in range(0,len(positions)-1):\n",
    "    for column in range(0,len(positions)-1):\n",
    "        \n",
    "        # if((row + column)%2==0):\n",
    "        if((row + column) & 1 == 0):\n",
    "            square_color=withe_color\n",
    "        else:\n",
    "            square_color=black_color\n",
    "\n",
    "        cv2.rectangle(color_img, (positions[column],positions[row]),(positions[column+1],positions[row+1]), square_color, -1)\n",
    "\n",
    "\n",
    "#Visualiza con matplotlib (sin especificar el mapa de color gris)\n",
    "plt.imshow(color_img) \n",
    "plt.savefig(\"imgs/chess_8x8_B&W.jpg\")\n",
    "\n",
    "plt.show()\n",
    "\n",
    "# Guardar imagen en el directorio\n",
    "#cv2.imwrite(\"imgs/chess_8x8_B&W.jpg\", color_img)\n",
    "\n"
   ]
  },
  {
   "cell_type": "markdown",
   "id": "b11f9a31",
   "metadata": {},
   "source": [
    "Descripción extra"
   ]
  },
  {
   "cell_type": "code",
   "execution_count": null,
   "id": "1eb9affc",
   "metadata": {},
   "outputs": [],
   "source": [
    "# Agregar v2 tablero de ajerez -> Agregar colores al tablero"
   ]
  },
  {
   "cell_type": "markdown",
   "id": "f071488f",
   "metadata": {},
   "source": [
    "## Titulo Tarea 2\n",
    "\n",
    "Breve descripción\n"
   ]
  },
  {
   "cell_type": "code",
   "execution_count": 49,
   "id": "168141bd",
   "metadata": {},
   "outputs": [
    {
     "name": "stdout",
     "output_type": "stream",
     "text": [
      "(200, 200, 3)\n"
     ]
    },
    {
     "data": {
      "image/png": "[encoded data removed]",
      "text/plain": [
       "<Figure size 640x480 with 1 Axes>"
      ]
     },
     "metadata": {},
     "output_type": "display_data"
    }
   ],
   "source": [
    "# Creación de imagen\n",
    "color_img = np.zeros((alto,ancho,3), dtype = np.uint8)\n",
    "#Dimensiones\n",
    "print(color_img.shape)\n",
    "color_img[:,:,:] = 255 \n",
    "\n",
    "cv2.line(color_img,(int(ancho/4),0),(int(ancho/4),alto),(0,0,0),3)\n",
    "cv2.line(color_img,(int(ancho/8),0),(int(ancho/8),alto),(0,0,0),3)\n",
    "cv2.line(color_img,(0,50),(ancho,50),(0,0,0),3)\n",
    "cv2.line(color_img,(0,125),(160,125),(0,0,0),3)\n",
    "cv2.line(color_img,(30,160),(ancho,160),(0,0,0),3)\n",
    "cv2.line(color_img,(int(ancho/2),0),(int(ancho/2),125),(0,0,0),3)\n",
    "cv2.line(color_img,(125,50),(125,alto),(0,0,0),3)\n",
    "cv2.line(color_img,(150,160),(150,0),(0,0,0),3)\n",
    "cv2.line(color_img,(175,0),(175,alto),(0,0,0),3)\n",
    "\n",
    "cv2.rectangle(color_img,(28,0),(47,47),(255,255,0),-1)\n",
    "cv2.rectangle(color_img,(53,0),(97,47),(0,0,255),-1)\n",
    "#cv2.rectangle(color_img,(103,0),(,47),(255,255,0),-1)\n",
    "#cv2.rectangle(color_img,(28,0),(47,47),(255,255,0),-1)\n",
    "#cv2.rectangle(color_img,(28,0),(47,47),(255,255,0),-1)\n",
    "#cv2.rectangle(color_img,(28,0),(47,47),(255,255,0),-1)\n",
    "\n",
    "#Visualiza con matplotlib (sin especificar el mapa de color gris)\n",
    "plt.imshow(color_img) \n",
    "plt.show()\n"
   ]
  },
  {
   "cell_type": "markdown",
   "id": "e926abd5",
   "metadata": {},
   "source": [
    "## Titulo Tarea 3\n",
    "\n",
    "Breve descripción\n"
   ]
  },
  {
   "cell_type": "markdown",
   "id": "e30faa80",
   "metadata": {},
   "source": []
  },
  {
   "cell_type": "markdown",
   "id": "c62ccc3c",
   "metadata": {},
   "source": [
    "## Titulo Tarea 4\n",
    "\n",
    "Breve descripción: ENCONTRAR EXTREMOS: PIXEL MÁS OSCURO Y MAS CLARO:\n",
    "\n",
    "Pintar círculos en las posiciones del píxel más claro y oscuro de la imagen \n"
   ]
  },
  {
   "cell_type": "code",
   "execution_count": 50,
   "id": "1c10da2d",
   "metadata": {},
   "outputs": [],
   "source": [
    "# Función que trata eventos de ratón \n",
    "def mouse_events(event, x, y, flags, params):\n",
    "    global px, py, R, G, B\n",
    "    px = -1\n",
    "    # Movimiento del puntero     \n",
    "    if event==cv2.EVENT_MOUSEMOVE:\n",
    "        #Valores del píxel, desde la webcam no es BGR\n",
    "        B = frame[y, x, 0]\n",
    "        G = frame[y, x, 1]\n",
    "        R = frame[y, x, 2]  \n",
    "        # Almacena valores del evento\n",
    "        px = x\n",
    "        py = y\n",
    "\n",
    "     \n",
    "  "
   ]
  },
  {
   "cell_type": "markdown",
   "id": "1676e4a1",
   "metadata": {},
   "source": [
    "QUEDA QUE SI EL TEXTO ESSTÁ EN EL BORDE NO SE SOBRESALGA Y QUEDE DENTRO DE LA IMAAGEN"
   ]
  },
  {
   "cell_type": "code",
   "execution_count": 73,
   "id": "ae6374d0",
   "metadata": {},
   "outputs": [],
   "source": [
    "def put_text_inside(\n",
    "    img,\n",
    "    text,\n",
    "    pos,\n",
    "    font=cv2.FONT_HERSHEY_SIMPLEX,\n",
    "    scale=0.6,\n",
    "    color=(0,0,0),\n",
    "    thickness=1,\n",
    "    offset=(10, -10)\n",
    "):\n",
    "    \"\"\"\n",
    "    Dibuja un texto dentro de los límites de la imagen, con un pequeño offset respecto a la posición dada.\n",
    "    Parámetros:\n",
    "        img   : imagen destino\n",
    "        text  : string a dibujar\n",
    "        pos   : (x, y) coordenadas del punto de referencia\n",
    "        offset: (dx, dy) desplazamiento respecto a pos\n",
    "    \"\"\"\n",
    "    h, w = img.shape[:2]\n",
    "    (text_w, text_h), _ = cv2.getTextSize(text, font, scale, thickness)\n",
    "\n",
    "    # Aplicar offset\n",
    "    x = pos[0] + offset[0]\n",
    "    y = pos[1] + offset[1]\n",
    "\n",
    "    # Ajustar coordenadas si el texto se sale\n",
    "    if x < 0:\n",
    "        x = 0\n",
    "    if x + text_w > w:\n",
    "        x = w - text_w\n",
    "    if y - text_h < 0:\n",
    "        y = text_h\n",
    "    if y > h - 1:\n",
    "        y = h - 1\n",
    "\n",
    "    cv2.putText(img, text, (x, y), font, scale, color, thickness, cv2.LINE_AA)"
   ]
  },
  {
   "cell_type": "markdown",
   "id": "3b8e88be",
   "metadata": {},
   "source": [
    "Agregar explicacaion y link documentación del cv2.minmaxloc"
   ]
  },
  {
   "cell_type": "code",
   "execution_count": 77,
   "id": "14af4790",
   "metadata": {},
   "outputs": [],
   "source": [
    "vid = cv2.VideoCapture(0)\n",
    "\n",
    "font = cv2.FONT_HERSHEY_TRIPLEX\n",
    "\n",
    "mouse_event_flag = 0\n",
    "mouse_coordinates = -1\n",
    "\n",
    "def find_max_and_min_pixel(frame):\n",
    "    gray_vid = cv2.cvtColor(frame, cv2.COLOR_BGR2GRAY)\n",
    "    \n",
    "    return cv2.minMaxLoc(gray_vid)\n",
    "\n",
    "max_color = (100,0,100)\n",
    "min_color = (50,0,200)\n",
    "\n",
    "while(True):\n",
    "    ret, frame = vid.read()\n",
    "\n",
    "    if ret:\n",
    "\n",
    "        if (mouse_event_flag==0):\n",
    "            cv2.imshow(\"Camara\", frame)\n",
    "            cv2.setMouseCallback(\"Camara\", mouse_events)\n",
    "            mouse_event_flag=1\n",
    "\n",
    "        min_px, max_px, min_px_coordinates, max_px_coordinates = find_max_and_min_pixel(frame)\n",
    "\n",
    "        cv2.circle(frame, min_px_coordinates, 10, min_color, 2)\n",
    "        cv2.circle(frame, max_px_coordinates, 10, max_color, 2)\n",
    "\n",
    "        cv2.putText(frame, \n",
    "                    f\"Darker: {min_px}\",\n",
    "                    ((min_px_coordinates[0] + 20), (min_px_coordinates[1] - 10)),\n",
    "                    cv2.FONT_HERSHEY_TRIPLEX, \n",
    "                    0.5,\n",
    "                    min_color,\n",
    "                    1)\n",
    "        \n",
    "        cv2.putText(frame, \n",
    "                    f\"Lighter: {max_px}\",\n",
    "                    ((max_px_coordinates[0] + 20), (max_px_coordinates[1] - 10)),\n",
    "                    cv2.FONT_HERSHEY_TRIPLEX, \n",
    "                    0.5,\n",
    "                    max_color,\n",
    "                    1)\n",
    "        \n",
    "        cv2.imshow('Camara', frame)\n",
    "\n",
    "    # Detenemos pulsado ESC\n",
    "    if cv2.waitKey(20) == 27:\n",
    "        break\n",
    "  \n",
    "# Libera el objeto de captura\n",
    "vid.release()\n",
    "# Destruye ventanas\n",
    "cv2.destroyAllWindows()\n"
   ]
  },
  {
   "cell_type": "markdown",
   "id": "25b5e604",
   "metadata": {},
   "source": [
    "¿Si quisieras hacerlo sobre la zona 8x8 más clara/oscura?"
   ]
  },
  {
   "cell_type": "markdown",
   "id": "784321ca",
   "metadata": {},
   "source": [
    "cOMENTAR LAS SOLUCIONES ANTERIORES Y LA RAZÓN DEL PORQUÉ NO SE HAN ELEGIDO. RECORRIDO\n",
    "\n",
    "Poner link documentación de cv2.resize\n",
    "https://opencv.org/blog/resizing-and-rescaling-images-with-opencv/ \n",
    "\n",
    "COMPARATIVA DE LOS TRES POR TIEMPO DE CÓMPUTO"
   ]
  },
  {
   "cell_type": "code",
   "execution_count": 76,
   "id": "8531b27f",
   "metadata": {},
   "outputs": [],
   "source": [
    "vid = cv2.VideoCapture(0)\n",
    "\n",
    "font = cv2.FONT_HERSHEY_TRIPLEX\n",
    "\n",
    "mouse_event_flag = 0\n",
    "mouse_coordinates = -1\n",
    "\n",
    "# Bloque de dimensiones de la zona a buscar\n",
    "block_size = 150\n",
    "\n",
    "darker=0\n",
    "lighter=255*8\n",
    "\n",
    "def find_max_and_min_pixel_8x8(frame):\n",
    "    gray_vid = cv2.cvtColor(frame, cv2.COLOR_BGR2GRAY)\n",
    "    \n",
    "    height, width = gray_vid.shape\n",
    "\n",
    "    vid_block = cv2.resize(gray_vid, (width//block_size, height//block_size))\n",
    "\n",
    "    return cv2.minMaxLoc(vid_block)\n",
    "\n",
    "max_color = (255,0,100)\n",
    "min_color = (100,0,255)\n",
    "\n",
    "while(True):\n",
    "    ret, frame = vid.read()\n",
    "\n",
    "    if ret:\n",
    "\n",
    "        if (mouse_event_flag==0):\n",
    "            cv2.imshow(\"Camara\", frame)\n",
    "            cv2.setMouseCallback(\"Camara\", mouse_events)\n",
    "            mouse_event_flag=1\n",
    "\n",
    "        min_block, max_block, min_block_coordinates, max_block_coordinates = find_max_and_min_pixel_8x8(frame)\n",
    "\n",
    "        # Escalar coordinadas de vuelta\n",
    "        min_block_coordinates_scale = ((min_block_coordinates[0]*block_size+(block_size//2)),\n",
    "                                       (min_block_coordinates[1]*block_size+(block_size//2)))\n",
    "        max_block_coordinates_scale = ((max_block_coordinates[0]*block_size+(block_size//2)),\n",
    "                                       (max_block_coordinates[1]*block_size+(block_size//2)))\n",
    "\n",
    "        cv2.circle(frame, min_block_coordinates_scale, block_size, min_color, 3)\n",
    "        cv2.circle(frame, max_block_coordinates_scale, block_size, max_color, 3)\n",
    "\n",
    "        cv2.putText(frame, \n",
    "                    f\"Darker: {min_block}\",\n",
    "                    ((min_block_coordinates_scale[0] + 20), (min_block_coordinates_scale[1] - 10)),\n",
    "                    cv2.FONT_HERSHEY_TRIPLEX, \n",
    "                    0.6,\n",
    "                    min_color,\n",
    "                    2)\n",
    "        \n",
    "        cv2.putText(frame, \n",
    "                    f\"Lighter: {max_block}\",\n",
    "                    ((max_block_coordinates_scale[0] + 20), (max_block_coordinates_scale[1] - 10)),\n",
    "                    cv2.FONT_HERSHEY_TRIPLEX, \n",
    "                    0.6,\n",
    "                    max_color,\n",
    "                    2)\n",
    "        \n",
    "        cv2.imshow('Camara', frame)\n",
    "\n",
    "    # Detenemos pulsado ESC\n",
    "    if cv2.waitKey(20) == 27:\n",
    "        break\n",
    "  \n",
    "# Libera el objeto de captura\n",
    "vid.release()\n",
    "# Destruye ventanas\n",
    "cv2.destroyAllWindows()\n"
   ]
  },
  {
   "cell_type": "markdown",
   "id": "1c59e586",
   "metadata": {},
   "source": [
    "## Titulo Tarea 5\n",
    "\n",
    "Breve descripción"
   ]
  },
  {
   "cell_type": "markdown",
   "id": "caa3d252",
   "metadata": {},
   "source": [
    "### Queda por hacer fork al respositorio"
   ]
  },
  {
   "cell_type": "code",
   "execution_count": null,
   "id": "fde55db4",
   "metadata": {},
   "outputs": [],
   "source": [
    "# Pop art"
   ]
  }
 ],
 "metadata": {
  "kernelspec": {
   "display_name": "VC_P1",
   "language": "python",
   "name": "python3"
  },
  "language_info": {
   "codemirror_mode": {
    "name": "ipython",
    "version": 3
   },
   "file_extension": ".py",
   "mimetype": "text/x-python",
   "name": "python",
   "nbconvert_exporter": "python",
   "pygments_lexer": "ipython3",
   "version": "3.11.5"
  }
 },
 "nbformat": 4,
 "nbformat_minor": 5
}
